{
 "cells": [
  {
   "cell_type": "code",
   "execution_count": null,
   "id": "6889d336-787f-425c-8c8b-3735d574fc3f",
   "metadata": {},
   "outputs": [],
   "source": [
    "# nbi:hide_in \n",
    "import pandas as pd\n",
    "import seaborn as sns\n",
    "import numpy as np\n",
    "import matplotlib.pyplot as plt\n",
    "from ipywidgets import interact, interactive, fixed, interact_manual, Layout\n",
    "import ipywidgets as widgets\n",
    "import random\n",
    "from scipy import stats\n",
    "\n",
    "def Scenario(SamplesNum = 2000, Probability=0.12, SampleSize = 100):\n",
    "    result = np.zeros((SamplesNum))\n",
    "    for i in range(SamplesNum):\n",
    "            population = ['black', 'other']\n",
    "            prob_population = [Probability, 1-Probability]\n",
    "            sample_panel = np.random.choice(population, p=prob_population, size = SampleSize)\n",
    "            num_black_jury = np.count_nonzero(sample_panel == 'black')\n",
    "            result[i]=num_black_jury\n",
    "    \n",
    "    plt.rcParams[\"font.family\"] = \"serif\"\n",
    "    plt.figure(figsize=(12,8))  \n",
    "    plt.hist(np.resize(result,(SamplesNum,1)),bins=[x for x in range(0,SampleSize)], color = \"lightcoral\")\n",
    "    plt.xlabel(\"Number of tickets recieved\", size = 24)\n",
    "    plt.ylabel(\"Frequency of samples\", size = 24)\n",
    "    plt.xticks(fontsize = 18, color = \"lightcoral\")\n",
    "    plt.yticks(fontsize = 18, color = \"firebrick\")\n",
    "    plt.axvline(x=0.045*SampleSize, color='brown', linestyle='-', linewidth = 4, label = \"Probability of Passing speed limit (set to p=.045)\");\n",
    "    print(\"Chances to get 4.5% (or less) tickets is:\" + str(stats.percentileofscore(result,(0.045*SampleSize)))+str(\"%\"))\n",
    "    plt.legend(loc = 9, fontsize = 14)\n",
    "    plt.show()\n",
    "    \n",
    "int_widget = interactive(Scenario,SamplesNum=(1,10000,100), Probability = (0, 1, 0.005), SampleSize = (0,2000))\n",
    "int_widget.children[0].layout = Layout(width='800px')\n",
    "int_widget.children[1].layout = Layout(width='800px')\n",
    "int_widget.children[2].layout = Layout(width='800px')\n",
    "\n",
    "\n",
    "display(int_widget)\n",
    "\n",
    "\n",
    "\n",
    "\n"
   ]
  }
 ],
 "metadata": {
  "kernelspec": {
   "display_name": "Python 3 (ipykernel)",
   "language": "python",
   "name": "python3"
  },
  "language_info": {
   "codemirror_mode": {
    "name": "ipython",
    "version": 3
   },
   "file_extension": ".py",
   "mimetype": "text/x-python",
   "name": "python",
   "nbconvert_exporter": "python",
   "pygments_lexer": "ipython3",
   "version": "3.7.12"
  }
 },
 "nbformat": 4,
 "nbformat_minor": 5
}
