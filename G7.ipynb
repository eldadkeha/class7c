{
 "cells": [
  {
   "cell_type": "code",
   "execution_count": 1,
   "id": "49d281c8-d386-40c0-9114-0005cc283e0c",
   "metadata": {},
   "outputs": [
    {
     "data": {
      "application/vnd.jupyter.widget-view+json": {
       "model_id": "daeb54dd88cf4237b5439252fb6f6c5a",
       "version_major": 2,
       "version_minor": 0
      },
      "text/plain": [
       "interactive(children=(IntSlider(value=1000, description='Number_Of_Samples', layout=Layout(width='800px'), max…"
      ]
     },
     "metadata": {},
     "output_type": "display_data"
    }
   ],
   "source": [
    "# nbi:hide_in \n",
    "import pandas as pd\n",
    "import seaborn as sns\n",
    "import numpy as np\n",
    "import matplotlib.pyplot as plt\n",
    "from ipywidgets import interact, interactive, fixed, interact_manual, Layout\n",
    "import ipywidgets as widgets\n",
    "import random\n",
    "from scipy import stats\n",
    "\n",
    "data3 = pd.read_csv(\"data3.csv\")\n",
    "data4 = pd.read_csv(\"data4.csv\")\n",
    "FTN = data3['FT']\n",
    "FTI = data4['FT']\n",
    "\n",
    "sns.set(font=\"serif\", style = \"white\")\n",
    "\n",
    "def mean_boot(Number_Of_Samples=1000, Sample_Size = 30):  \n",
    "  meanFTN = np.zeros(Number_Of_Samples)\n",
    "  for i in range(Number_Of_Samples):\n",
    "      SampledFTN=random.choices(FTN, k=Sample_Size)\n",
    "      meanFTN[i]=np.mean(SampledFTN)\n",
    "      FTIsample = random.choices(FTI, k=Sample_Size)\n",
    "      x = np.mean(FTIsample)\n",
    "        \n",
    "  plt.figure(figsize=(9,9))\n",
    "  sns.histplot(FTIsample,bins=25,alpha=0.7, color=\"lightcoral\", stat = \"density\", label = \"With Optical Illusion\");  \n",
    "  sns.histplot(meanFTN,bins=15,alpha=0.7, color=\"peachpuff\", stat = \"density\", kde = True, label = \"NBA players\");\n",
    "  sns.kdeplot(meanFTN,color=\"darkred\");\n",
    "  plt.legend(fontsize = 18)\n",
    "  plt.title (\"Can optical illusion improve Free-Throws shooting?\", size = 22, color = \"orange\")\n",
    "  plt.xlabel(\"Percentage of free throws Scoring\", size = 18)\n",
    "  plt.ylabel(\"Density\", size =18)\n",
    "  plt.yticks(size =14)\n",
    "  plt.xticks(size =14)\n",
    "  plt.axvline(x=np.mean(FTIsample), color='brown', linestyle='-', linewidth = 4, label = \"Probability of Passing speed limit (set to p=.045)\");\n",
    "  print(\"Overall, \" + str(stats.percentileofscore(meanFTN,(x)))+str(\" % of samples are shooting worth than our sample\"))\n",
    "  print(\"Or we can say that \" + str(np.round(100 - stats.percentileofscore(meanFTN,(x)), decimals = 2))+str(\" % are shooting better than our sample\"))  \n",
    "\n",
    "int_widget = interactive(mean_boot,Number_Of_Samples=(1000,10000,100), Sample_Size=(2,100,1))\n",
    "int_widget.children[0].layout = Layout(width='800px')\n",
    "int_widget.children[1].layout = Layout(width='500px')\n",
    "display(int_widget)\n"
   ]
  },
  {
   "cell_type": "markdown",
   "id": "330b6807-e9ab-4539-b912-2150eba9c717",
   "metadata": {},
   "source": [
    "## "
   ]
  }
 ],
 "metadata": {
  "kernelspec": {
   "display_name": "Python 3 (ipykernel)",
   "language": "python",
   "name": "python3"
  },
  "language_info": {
   "codemirror_mode": {
    "name": "ipython",
    "version": 3
   },
   "file_extension": ".py",
   "mimetype": "text/x-python",
   "name": "python",
   "nbconvert_exporter": "python",
   "pygments_lexer": "ipython3",
   "version": "3.7.12"
  }
 },
 "nbformat": 4,
 "nbformat_minor": 5
}
